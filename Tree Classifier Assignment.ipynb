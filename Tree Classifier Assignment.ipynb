{
 "cells": [
  {
   "cell_type": "code",
   "execution_count": 1,
   "id": "f77300a0",
   "metadata": {},
   "outputs": [],
   "source": [
    "import pandas as pd\n",
    "import matplotlib.pyplot as plt\n",
    "from sklearn.model_selection import train_test_split\n",
    "from sklearn.preprocessing import StandardScaler, LabelEncoder\n",
    "from tensorflow.keras.models import Sequential\n",
    "from tensorflow.keras.layers import Dense, Dropout\n",
    "from tensorflow.keras.regularizers import l1_l2\n",
    "import tensorflow as tf\n",
    "from sklearn.tree import DecisionTreeClassifier\n",
    "knn = DecisionTreeClassifier(max_depth=3)\n",
    "from sklearn.metrics import classification_report, accuracy_score"
   ]
  },
  {
   "cell_type": "code",
   "execution_count": 2,
   "id": "c335b1ec",
   "metadata": {},
   "outputs": [],
   "source": [
    "# Load the dataset\n",
    "data = pd.read_csv(r\"C:\\Users\\utente\\Untitled Folder 1\\Dataset.csv\")"
   ]
  },
  {
   "cell_type": "code",
   "execution_count": 3,
   "id": "a8b68f0d",
   "metadata": {},
   "outputs": [
    {
     "name": "stdout",
     "output_type": "stream",
     "text": [
      "Species              0\n",
      "Ratio                0\n",
      "Angle_of_Base\\t      0\n",
      "Angle_of_Apex        0\n",
      "Length_of_Petiole    0\n",
      "dtype: int64\n"
     ]
    }
   ],
   "source": [
    "# Check for missing values\n",
    "print(data.isnull().sum())"
   ]
  },
  {
   "cell_type": "code",
   "execution_count": 4,
   "id": "85423358",
   "metadata": {},
   "outputs": [],
   "source": [
    "# Normalize features\n",
    "scaler = StandardScaler()\n",
    "features = data[[\"Ratio\", \"Angle_of_Base\\t\", \"Angle_of_Apex\", \"Length_of_Petiole\"]]\n",
    "features_scaled = scaler.fit_transform(features)"
   ]
  },
  {
   "cell_type": "code",
   "execution_count": 5,
   "id": "e9369951",
   "metadata": {},
   "outputs": [],
   "source": [
    "# Encode labels to integers\n",
    "label_encoder = LabelEncoder()\n",
    "labels = label_encoder.fit_transform(data[\"Species\"])"
   ]
  },
  {
   "cell_type": "code",
   "execution_count": 6,
   "id": "d9f2d788",
   "metadata": {},
   "outputs": [
    {
     "name": "stdout",
     "output_type": "stream",
     "text": [
      "Number of unique classes: 3\n"
     ]
    }
   ],
   "source": [
    "# Determine the number of unique classes\n",
    "num_classes = len(set(labels))\n",
    "print(\"Number of unique classes:\", num_classes)"
   ]
  },
  {
   "cell_type": "code",
   "execution_count": 7,
   "id": "c97717f8",
   "metadata": {},
   "outputs": [],
   "source": [
    "# Split data into training and test sets\n",
    "X_train, X_test, y_train, y_test = train_test_split(features_scaled, labels, test_size=0.2, random_state=42)"
   ]
  },
  {
   "cell_type": "code",
   "execution_count": 8,
   "id": "96725fa2",
   "metadata": {},
   "outputs": [],
   "source": [
    "# Define hyperparameters\n",
    "learning_rate = 0.001  # Learning rate for the optimizer\n",
    "epochs = 50  # Number of training epochs\n",
    "batch_size = 10  # Batch size for training\n",
    "l1_reg_lambda = 0.01  # L1 regularization strength\n",
    "l2_reg_lambda = 0.01  # L2 regularization strength\n",
    "dropout_rate = 0.2  # Dropout rate for hidden layers"
   ]
  },
  {
   "cell_type": "code",
   "execution_count": 9,
   "id": "70b856da",
   "metadata": {},
   "outputs": [],
   "source": [
    "# Build the neural network\n",
    "model = Sequential([\n",
    "    Dense(64, activation=\"relu\", input_shape=(4,), kernel_regularizer=l1_l2(l1=l1_reg_lambda, l2=l2_reg_lambda)),  # Input layer with L1 and L2 regularization\n",
    "    Dropout(dropout_rate),  # Dropout layer\n",
    "    Dense(32, activation=\"relu\", kernel_regularizer=l1_l2(l1=l1_reg_lambda, l2=l2_reg_lambda)),  # Hidden layer with L1 and L2 regularization\n",
    "    Dropout(dropout_rate),  # Dropout layer\n",
    "    Dense(num_classes, activation=\"softmax\")  # Output layer with dynamic number of classes\n",
    "])"
   ]
  },
  {
   "cell_type": "code",
   "execution_count": 10,
   "id": "ad481cad",
   "metadata": {},
   "outputs": [],
   "source": [
    "# Compile the model\n",
    "model.compile(loss=\"sparse_categorical_crossentropy\",\n",
    "              optimizer=tf.keras.optimizers.Adam(learning_rate=learning_rate),\n",
    "              metrics=[\"accuracy\"])"
   ]
  },
  {
   "cell_type": "code",
   "execution_count": 11,
   "id": "1f4d5d12",
   "metadata": {},
   "outputs": [
    {
     "name": "stdout",
     "output_type": "stream",
     "text": [
      "Epoch 1/50\n",
      "6/6 [==============================] - 1s 97ms/step - loss: 4.5097 - accuracy: 0.4667 - val_loss: 4.4264 - val_accuracy: 0.4667\n",
      "Epoch 2/50\n",
      "6/6 [==============================] - 0s 8ms/step - loss: 4.3062 - accuracy: 0.5500 - val_loss: 4.2541 - val_accuracy: 0.5333\n",
      "Epoch 3/50\n",
      "6/6 [==============================] - 0s 8ms/step - loss: 4.1455 - accuracy: 0.5833 - val_loss: 4.0917 - val_accuracy: 0.6000\n",
      "Epoch 4/50\n",
      "6/6 [==============================] - 0s 7ms/step - loss: 4.0112 - accuracy: 0.6333 - val_loss: 3.9321 - val_accuracy: 0.6667\n",
      "Epoch 5/50\n",
      "6/6 [==============================] - 0s 7ms/step - loss: 3.8374 - accuracy: 0.6833 - val_loss: 3.7775 - val_accuracy: 0.8000\n",
      "Epoch 6/50\n",
      "6/6 [==============================] - 0s 8ms/step - loss: 3.7110 - accuracy: 0.7167 - val_loss: 3.6291 - val_accuracy: 0.8000\n",
      "Epoch 7/50\n",
      "6/6 [==============================] - 0s 8ms/step - loss: 3.5398 - accuracy: 0.8000 - val_loss: 3.4824 - val_accuracy: 0.8000\n",
      "Epoch 8/50\n",
      "6/6 [==============================] - 0s 8ms/step - loss: 3.3852 - accuracy: 0.8500 - val_loss: 3.3455 - val_accuracy: 0.8000\n",
      "Epoch 9/50\n",
      "6/6 [==============================] - 0s 8ms/step - loss: 3.2953 - accuracy: 0.7833 - val_loss: 3.2148 - val_accuracy: 0.8667\n",
      "Epoch 10/50\n",
      "6/6 [==============================] - 0s 8ms/step - loss: 3.1538 - accuracy: 0.8167 - val_loss: 3.0874 - val_accuracy: 0.8667\n",
      "Epoch 11/50\n",
      "6/6 [==============================] - 0s 9ms/step - loss: 3.0444 - accuracy: 0.8167 - val_loss: 2.9686 - val_accuracy: 0.8667\n",
      "Epoch 12/50\n",
      "6/6 [==============================] - 0s 8ms/step - loss: 2.9651 - accuracy: 0.8000 - val_loss: 2.8531 - val_accuracy: 0.9333\n",
      "Epoch 13/50\n",
      "6/6 [==============================] - 0s 8ms/step - loss: 2.8104 - accuracy: 0.8500 - val_loss: 2.7431 - val_accuracy: 0.9333\n",
      "Epoch 14/50\n",
      "6/6 [==============================] - 0s 8ms/step - loss: 2.6812 - accuracy: 0.8667 - val_loss: 2.6366 - val_accuracy: 0.9333\n",
      "Epoch 15/50\n",
      "6/6 [==============================] - 0s 7ms/step - loss: 2.6108 - accuracy: 0.8667 - val_loss: 2.5341 - val_accuracy: 0.9333\n",
      "Epoch 16/50\n",
      "6/6 [==============================] - 0s 8ms/step - loss: 2.4787 - accuracy: 0.8000 - val_loss: 2.4373 - val_accuracy: 0.9333\n",
      "Epoch 17/50\n",
      "6/6 [==============================] - 0s 8ms/step - loss: 2.3927 - accuracy: 0.8500 - val_loss: 2.3441 - val_accuracy: 0.9333\n",
      "Epoch 18/50\n",
      "6/6 [==============================] - 0s 8ms/step - loss: 2.2888 - accuracy: 0.8500 - val_loss: 2.2551 - val_accuracy: 0.9333\n",
      "Epoch 19/50\n",
      "6/6 [==============================] - 0s 8ms/step - loss: 2.2112 - accuracy: 0.8833 - val_loss: 2.1694 - val_accuracy: 0.9333\n",
      "Epoch 20/50\n",
      "6/6 [==============================] - 0s 8ms/step - loss: 2.1740 - accuracy: 0.8667 - val_loss: 2.0853 - val_accuracy: 0.9333\n",
      "Epoch 21/50\n",
      "6/6 [==============================] - 0s 8ms/step - loss: 2.0507 - accuracy: 0.8333 - val_loss: 2.0056 - val_accuracy: 0.9333\n",
      "Epoch 22/50\n",
      "6/6 [==============================] - 0s 8ms/step - loss: 1.9969 - accuracy: 0.8333 - val_loss: 1.9294 - val_accuracy: 0.9333\n",
      "Epoch 23/50\n",
      "6/6 [==============================] - 0s 8ms/step - loss: 1.8950 - accuracy: 0.8833 - val_loss: 1.8560 - val_accuracy: 0.9333\n",
      "Epoch 24/50\n",
      "6/6 [==============================] - 0s 8ms/step - loss: 1.8216 - accuracy: 0.8500 - val_loss: 1.7877 - val_accuracy: 0.9333\n",
      "Epoch 25/50\n",
      "6/6 [==============================] - 0s 8ms/step - loss: 1.7482 - accuracy: 0.9000 - val_loss: 1.7222 - val_accuracy: 0.9333\n",
      "Epoch 26/50\n",
      "6/6 [==============================] - 0s 8ms/step - loss: 1.6726 - accuracy: 0.8667 - val_loss: 1.6607 - val_accuracy: 0.9333\n",
      "Epoch 27/50\n",
      "6/6 [==============================] - 0s 8ms/step - loss: 1.6311 - accuracy: 0.8667 - val_loss: 1.6021 - val_accuracy: 0.9333\n",
      "Epoch 28/50\n",
      "6/6 [==============================] - 0s 7ms/step - loss: 1.6006 - accuracy: 0.8667 - val_loss: 1.5461 - val_accuracy: 0.9333\n",
      "Epoch 29/50\n",
      "6/6 [==============================] - 0s 8ms/step - loss: 1.5477 - accuracy: 0.8333 - val_loss: 1.4902 - val_accuracy: 0.9333\n",
      "Epoch 30/50\n",
      "6/6 [==============================] - 0s 8ms/step - loss: 1.4574 - accuracy: 0.8500 - val_loss: 1.4383 - val_accuracy: 0.9333\n",
      "Epoch 31/50\n",
      "6/6 [==============================] - 0s 9ms/step - loss: 1.4129 - accuracy: 0.9000 - val_loss: 1.3866 - val_accuracy: 0.9333\n",
      "Epoch 32/50\n",
      "6/6 [==============================] - 0s 8ms/step - loss: 1.4130 - accuracy: 0.8167 - val_loss: 1.3381 - val_accuracy: 0.9333\n",
      "Epoch 33/50\n",
      "6/6 [==============================] - 0s 8ms/step - loss: 1.3199 - accuracy: 0.8833 - val_loss: 1.2923 - val_accuracy: 0.9333\n",
      "Epoch 34/50\n",
      "6/6 [==============================] - 0s 8ms/step - loss: 1.2700 - accuracy: 0.9167 - val_loss: 1.2489 - val_accuracy: 0.9333\n",
      "Epoch 35/50\n",
      "6/6 [==============================] - 0s 8ms/step - loss: 1.2182 - accuracy: 0.8833 - val_loss: 1.2087 - val_accuracy: 0.9333\n",
      "Epoch 36/50\n",
      "6/6 [==============================] - 0s 9ms/step - loss: 1.1982 - accuracy: 0.8667 - val_loss: 1.1710 - val_accuracy: 0.9333\n",
      "Epoch 37/50\n",
      "6/6 [==============================] - 0s 8ms/step - loss: 1.1852 - accuracy: 0.8833 - val_loss: 1.1354 - val_accuracy: 0.9333\n",
      "Epoch 38/50\n",
      "6/6 [==============================] - 0s 8ms/step - loss: 1.1371 - accuracy: 0.9000 - val_loss: 1.1023 - val_accuracy: 0.9333\n",
      "Epoch 39/50\n",
      "6/6 [==============================] - 0s 7ms/step - loss: 1.0886 - accuracy: 0.9000 - val_loss: 1.0715 - val_accuracy: 0.9333\n",
      "Epoch 40/50\n",
      "6/6 [==============================] - 0s 8ms/step - loss: 1.0406 - accuracy: 0.9333 - val_loss: 1.0434 - val_accuracy: 0.9333\n",
      "Epoch 41/50\n",
      "6/6 [==============================] - 0s 8ms/step - loss: 1.0058 - accuracy: 0.8833 - val_loss: 1.0167 - val_accuracy: 0.9333\n",
      "Epoch 42/50\n",
      "6/6 [==============================] - 0s 9ms/step - loss: 1.0133 - accuracy: 0.8667 - val_loss: 0.9919 - val_accuracy: 0.9333\n",
      "Epoch 43/50\n",
      "6/6 [==============================] - 0s 8ms/step - loss: 0.9899 - accuracy: 0.8667 - val_loss: 0.9690 - val_accuracy: 0.9333\n",
      "Epoch 44/50\n",
      "6/6 [==============================] - 0s 8ms/step - loss: 0.9340 - accuracy: 0.9000 - val_loss: 0.9484 - val_accuracy: 0.9333\n",
      "Epoch 45/50\n",
      "6/6 [==============================] - 0s 8ms/step - loss: 0.9709 - accuracy: 0.9000 - val_loss: 0.9296 - val_accuracy: 0.9333\n",
      "Epoch 46/50\n",
      "6/6 [==============================] - 0s 10ms/step - loss: 0.9619 - accuracy: 0.8833 - val_loss: 0.9116 - val_accuracy: 0.9333\n",
      "Epoch 47/50\n",
      "6/6 [==============================] - 0s 7ms/step - loss: 0.8833 - accuracy: 0.8833 - val_loss: 0.8959 - val_accuracy: 0.9333\n",
      "Epoch 48/50\n",
      "6/6 [==============================] - 0s 7ms/step - loss: 0.8770 - accuracy: 0.9000 - val_loss: 0.8807 - val_accuracy: 0.9333\n",
      "Epoch 49/50\n",
      "6/6 [==============================] - 0s 8ms/step - loss: 0.8680 - accuracy: 0.8833 - val_loss: 0.8671 - val_accuracy: 0.9333\n",
      "Epoch 50/50\n",
      "6/6 [==============================] - 0s 8ms/step - loss: 0.8847 - accuracy: 0.8500 - val_loss: 0.8557 - val_accuracy: 0.9333\n"
     ]
    }
   ],
   "source": [
    "# Train the model\n",
    "history = model.fit(X_train, y_train, epochs=epochs, batch_size=batch_size, validation_data=(X_test, y_test))"
   ]
  },
  {
   "cell_type": "code",
   "execution_count": 12,
   "id": "0362799a",
   "metadata": {},
   "outputs": [
    {
     "name": "stdout",
     "output_type": "stream",
     "text": [
      "1/1 [==============================] - 0s 22ms/step - loss: 0.8557 - accuracy: 0.9333\n",
      "Test Accuracy: 0.9333333373069763\n"
     ]
    }
   ],
   "source": [
    "# Evaluate the model on the test set\n",
    "test_loss, test_acc = model.evaluate(X_test, y_test)\n",
    "print(\"Test Accuracy:\", test_acc)"
   ]
  },
  {
   "cell_type": "code",
   "execution_count": 13,
   "id": "18d9fbb6",
   "metadata": {},
   "outputs": [
    {
     "name": "stdout",
     "output_type": "stream",
     "text": [
      "validation Accuracy: [0.46666666865348816, 0.5333333611488342, 0.6000000238418579, 0.6666666865348816, 0.800000011920929, 0.800000011920929, 0.800000011920929, 0.800000011920929, 0.8666666746139526, 0.8666666746139526, 0.8666666746139526, 0.9333333373069763, 0.9333333373069763, 0.9333333373069763, 0.9333333373069763, 0.9333333373069763, 0.9333333373069763, 0.9333333373069763, 0.9333333373069763, 0.9333333373069763, 0.9333333373069763, 0.9333333373069763, 0.9333333373069763, 0.9333333373069763, 0.9333333373069763, 0.9333333373069763, 0.9333333373069763, 0.9333333373069763, 0.9333333373069763, 0.9333333373069763, 0.9333333373069763, 0.9333333373069763, 0.9333333373069763, 0.9333333373069763, 0.9333333373069763, 0.9333333373069763, 0.9333333373069763, 0.9333333373069763, 0.9333333373069763, 0.9333333373069763, 0.9333333373069763, 0.9333333373069763, 0.9333333373069763, 0.9333333373069763, 0.9333333373069763, 0.9333333373069763, 0.9333333373069763, 0.9333333373069763, 0.9333333373069763, 0.9333333373069763]\n"
     ]
    }
   ],
   "source": [
    "# Extract training and validation accuracy from the history object\n",
    "training_acc = history.history['accuracy'][-1]\n",
    "validation_acc = history.history['val_accuracy']\n",
    "print(\"validation Accuracy:\", validation_acc)"
   ]
  },
  {
   "cell_type": "code",
   "execution_count": 14,
   "id": "ba757c55",
   "metadata": {},
   "outputs": [
    {
     "name": "stdout",
     "output_type": "stream",
     "text": [
      "Final Training Accuracy: 0.8500000238418579\n",
      "Final Validation Accuracy: 0.9333333373069763\n"
     ]
    }
   ],
   "source": [
    "training_acc = history.history['accuracy'][-1]\n",
    "validation_acc = history.history['val_accuracy'][-1]\n",
    "print(\"Final Training Accuracy:\", training_acc)\n",
    "print(\"Final Validation Accuracy:\", validation_acc)"
   ]
  },
  {
   "cell_type": "code",
   "execution_count": 15,
   "id": "73cb79f0",
   "metadata": {},
   "outputs": [
    {
     "name": "stdout",
     "output_type": "stream",
     "text": [
      "1/1 [==============================] - 0s 79ms/step\n"
     ]
    }
   ],
   "source": [
    "# Make predictions on the test set\n",
    "predictions = model.predict(X_test)"
   ]
  },
  {
   "cell_type": "code",
   "execution_count": 16,
   "id": "70f6684a",
   "metadata": {},
   "outputs": [],
   "source": [
    "# Convert predicted probabilities to class labels\n",
    "predicted_classes = predictions.argmax(axis=1)"
   ]
  },
  {
   "cell_type": "code",
   "execution_count": 22,
   "id": "a16201ff",
   "metadata": {},
   "outputs": [
    {
     "name": "stdout",
     "output_type": "stream",
     "text": [
      "Species Predictions: [0 1 0 0 2]\n"
     ]
    }
   ],
   "source": [
    "# Print some sample predictions\n",
    "print(\"Species Predictions:\", predicted_classes[:5]) "
   ]
  },
  {
   "cell_type": "code",
   "execution_count": 25,
   "id": "dc825f65",
   "metadata": {},
   "outputs": [
    {
     "data": {
      "text/html": [
       "<div>\n",
       "<style scoped>\n",
       "    .dataframe tbody tr th:only-of-type {\n",
       "        vertical-align: middle;\n",
       "    }\n",
       "\n",
       "    .dataframe tbody tr th {\n",
       "        vertical-align: top;\n",
       "    }\n",
       "\n",
       "    .dataframe thead th {\n",
       "        text-align: right;\n",
       "    }\n",
       "</style>\n",
       "<table border=\"1\" class=\"dataframe\">\n",
       "  <thead>\n",
       "    <tr style=\"text-align: right;\">\n",
       "      <th></th>\n",
       "      <th>Ratio</th>\n",
       "      <th>Angle_of_Base\\t</th>\n",
       "      <th>Angle_of_Apex</th>\n",
       "      <th>Length_of_Petiole</th>\n",
       "    </tr>\n",
       "  </thead>\n",
       "  <tbody>\n",
       "    <tr>\n",
       "      <th>0</th>\n",
       "      <td>1.61</td>\n",
       "      <td>170</td>\n",
       "      <td>20</td>\n",
       "      <td>5.30</td>\n",
       "    </tr>\n",
       "    <tr>\n",
       "      <th>1</th>\n",
       "      <td>1.20</td>\n",
       "      <td>300</td>\n",
       "      <td>37</td>\n",
       "      <td>2.35</td>\n",
       "    </tr>\n",
       "    <tr>\n",
       "      <th>2</th>\n",
       "      <td>1.62</td>\n",
       "      <td>280</td>\n",
       "      <td>30</td>\n",
       "      <td>1.40</td>\n",
       "    </tr>\n",
       "    <tr>\n",
       "      <th>3</th>\n",
       "      <td>1.96</td>\n",
       "      <td>240</td>\n",
       "      <td>30</td>\n",
       "      <td>2.00</td>\n",
       "    </tr>\n",
       "    <tr>\n",
       "      <th>4</th>\n",
       "      <td>1.58</td>\n",
       "      <td>150</td>\n",
       "      <td>20</td>\n",
       "      <td>3.40</td>\n",
       "    </tr>\n",
       "    <tr>\n",
       "      <th>...</th>\n",
       "      <td>...</td>\n",
       "      <td>...</td>\n",
       "      <td>...</td>\n",
       "      <td>...</td>\n",
       "    </tr>\n",
       "    <tr>\n",
       "      <th>70</th>\n",
       "      <td>1.46</td>\n",
       "      <td>230</td>\n",
       "      <td>52</td>\n",
       "      <td>2.00</td>\n",
       "    </tr>\n",
       "    <tr>\n",
       "      <th>71</th>\n",
       "      <td>1.01</td>\n",
       "      <td>210</td>\n",
       "      <td>40</td>\n",
       "      <td>9.00</td>\n",
       "    </tr>\n",
       "    <tr>\n",
       "      <th>72</th>\n",
       "      <td>1.35</td>\n",
       "      <td>180</td>\n",
       "      <td>55</td>\n",
       "      <td>5.00</td>\n",
       "    </tr>\n",
       "    <tr>\n",
       "      <th>73</th>\n",
       "      <td>1.48</td>\n",
       "      <td>230</td>\n",
       "      <td>55</td>\n",
       "      <td>8.00</td>\n",
       "    </tr>\n",
       "    <tr>\n",
       "      <th>74</th>\n",
       "      <td>1.60</td>\n",
       "      <td>180</td>\n",
       "      <td>35</td>\n",
       "      <td>6.00</td>\n",
       "    </tr>\n",
       "  </tbody>\n",
       "</table>\n",
       "<p>75 rows × 4 columns</p>\n",
       "</div>"
      ],
      "text/plain": [
       "    Ratio  Angle_of_Base\\t  Angle_of_Apex  Length_of_Petiole\n",
       "0    1.61              170             20               5.30\n",
       "1    1.20              300             37               2.35\n",
       "2    1.62              280             30               1.40\n",
       "3    1.96              240             30               2.00\n",
       "4    1.58              150             20               3.40\n",
       "..    ...              ...            ...                ...\n",
       "70   1.46              230             52               2.00\n",
       "71   1.01              210             40               9.00\n",
       "72   1.35              180             55               5.00\n",
       "73   1.48              230             55               8.00\n",
       "74   1.60              180             35               6.00\n",
       "\n",
       "[75 rows x 4 columns]"
      ]
     },
     "execution_count": 25,
     "metadata": {},
     "output_type": "execute_result"
    }
   ],
   "source": [
    "X = data.drop(\"Species\", axis=1)\n",
    "X"
   ]
  },
  {
   "cell_type": "code",
   "execution_count": 24,
   "id": "fdd18fa2",
   "metadata": {},
   "outputs": [
    {
     "data": {
      "text/plain": [
       "0           Betel\n",
       "1           Betel\n",
       "2           Betel\n",
       "3           Betel\n",
       "4           Betel\n",
       "         ...     \n",
       "70    Long_Pepper\n",
       "71    Long_Pepper\n",
       "72    Long_Pepper\n",
       "73    Long_Pepper\n",
       "74    Long_Pepper\n",
       "Name: Species, Length: 75, dtype: object"
      ]
     },
     "execution_count": 24,
     "metadata": {},
     "output_type": "execute_result"
    }
   ],
   "source": [
    "y = data[\"Species\"]\n",
    "y"
   ]
  },
  {
   "cell_type": "code",
   "execution_count": 35,
   "id": "3ba24b0e",
   "metadata": {},
   "outputs": [],
   "source": [
    "X_train, X_test, y_train, y_test = train_test_split(X,y, test_size=0.2, random_state=42)"
   ]
  },
  {
   "cell_type": "code",
   "execution_count": 36,
   "id": "ba41c933",
   "metadata": {},
   "outputs": [
    {
     "data": {
      "text/plain": [
       "DecisionTreeClassifier()"
      ]
     },
     "execution_count": 36,
     "metadata": {},
     "output_type": "execute_result"
    }
   ],
   "source": [
    "knn = DecisionTreeClassifier()\n",
    "knn.fit(X_train, y_train)"
   ]
  },
  {
   "cell_type": "code",
   "execution_count": 37,
   "id": "c28dae70",
   "metadata": {},
   "outputs": [],
   "source": [
    "y_pred = knn.predict(X_test)"
   ]
  },
  {
   "cell_type": "code",
   "execution_count": 38,
   "id": "d9ba401e",
   "metadata": {},
   "outputs": [],
   "source": [
    "new_data = pd.DataFrame({\"Ratio\":[1.81],\"Angle_of_Base\\t\":[197], \"Angle_of_Apex\":[22], \"Length_of_Petiole\":6})"
   ]
  },
  {
   "cell_type": "code",
   "execution_count": 39,
   "id": "85f186d8",
   "metadata": {},
   "outputs": [],
   "source": [
    "prediction = knn.predict(new_data)"
   ]
  },
  {
   "cell_type": "code",
   "execution_count": 68,
   "id": "6b6f84d2",
   "metadata": {},
   "outputs": [
    {
     "data": {
      "text/plain": [
       "'Betel'"
      ]
     },
     "execution_count": 68,
     "metadata": {},
     "output_type": "execute_result"
    }
   ],
   "source": [
    "prediction[0]"
   ]
  },
  {
   "cell_type": "code",
   "execution_count": 53,
   "id": "a1e04eda",
   "metadata": {},
   "outputs": [
    {
     "name": "stdout",
     "output_type": "stream",
     "text": [
      "1/1 [==============================] - 0s 81ms/step\n"
     ]
    }
   ],
   "source": [
    "predictions = model.predict(X_test)"
   ]
  },
  {
   "cell_type": "code",
   "execution_count": 54,
   "id": "f0edcc09",
   "metadata": {},
   "outputs": [],
   "source": [
    "predicted_classes = predictions.argmax(axis=1)"
   ]
  },
  {
   "cell_type": "code",
   "execution_count": 56,
   "id": "eac7874b",
   "metadata": {},
   "outputs": [
    {
     "name": "stdout",
     "output_type": "stream",
     "text": [
      "              precision    recall  f1-score   support\n",
      "\n",
      "       Betel       0.60      0.50      0.55         6\n",
      " Long_Pepper       0.50      0.25      0.33         4\n",
      "      Pepper       0.62      1.00      0.77         5\n",
      "\n",
      "    accuracy                           0.60        15\n",
      "   macro avg       0.58      0.58      0.55        15\n",
      "weighted avg       0.58      0.60      0.56        15\n",
      "\n"
     ]
    }
   ],
   "source": [
    "print(classification_report(y_test, y_pred))"
   ]
  },
  {
   "cell_type": "code",
   "execution_count": 57,
   "id": "bcca14d7",
   "metadata": {},
   "outputs": [
    {
     "data": {
      "image/png": "[encoded data removed]",
      "text/plain": [
       "<Figure size 640x480 with 1 Axes>"
      ]
     },
     "metadata": {},
     "output_type": "display_data"
    }
   ],
   "source": [
    "# Plot the training and validation loss over epochs\n",
    "plt.plot(history.history['loss'], label='Training Loss')\n",
    "plt.plot(history.history['val_loss'], label='Validation Loss')\n",
    "plt.xlabel('Epochs')\n",
    "plt.ylabel('Loss')\n",
    "plt.title('Training and Validation Loss')\n",
    "plt.legend()\n",
    "plt.show()\n"
   ]
  },
  {
   "cell_type": "code",
   "execution_count": 90,
   "id": "1e83c0a4",
   "metadata": {},
   "outputs": [
    {
     "data": {
      "text/plain": [
       "'Betel'"
      ]
     },
     "execution_count": 90,
     "metadata": {},
     "output_type": "execute_result"
    }
   ],
   "source": [
    "new_data = pd.DataFrame({\"Ratio\":[1.81],\"Angle_of_Base\\t\":[197], \"Angle_of_Apex\":[22], \"Length_of_Petiole\":6})\n",
    "prediction = knn.predict(new_data)\n",
    "prediction[0]"
   ]
  },
  {
   "cell_type": "code",
   "execution_count": 91,
   "id": "bb5edd41",
   "metadata": {},
   "outputs": [
    {
     "data": {
      "text/plain": [
       "'Betel'"
      ]
     },
     "execution_count": 91,
     "metadata": {},
     "output_type": "execute_result"
    }
   ],
   "source": [
    "new_data = pd.DataFrame({\"Ratio\":[1.2],\"Angle_of_Base\\t\":[300], \"Angle_of_Apex\":[37], \"Length_of_Petiole\":5.3})\n",
    "prediction = knn.predict(new_data)\n",
    "prediction[0]"
   ]
  },
  {
   "cell_type": "code",
   "execution_count": 92,
   "id": "17f72365",
   "metadata": {},
   "outputs": [
    {
     "data": {
      "text/plain": [
       "'Pepper'"
      ]
     },
     "execution_count": 92,
     "metadata": {},
     "output_type": "execute_result"
    }
   ],
   "source": [
    "new_data = pd.DataFrame({\"Ratio\":[1.58],\"Angle_of_Base\\t\":[150], \"Angle_of_Apex\":[20], \"Length_of_Petiole\":3.4})\n",
    "prediction = knn.predict(new_data)\n",
    "prediction[0]"
   ]
  },
  {
   "cell_type": "code",
   "execution_count": 93,
   "id": "61bee7e0",
   "metadata": {},
   "outputs": [
    {
     "data": {
      "text/plain": [
       "'Betel'"
      ]
     },
     "execution_count": 93,
     "metadata": {},
     "output_type": "execute_result"
    }
   ],
   "source": [
    "new_data = pd.DataFrame({\"Ratio\":[1.77],\"Angle_of_Base\\t\":[290], \"Angle_of_Apex\":[26], \"Length_of_Petiole\":2.6})\n",
    "prediction = knn.predict(new_data)\n",
    "prediction[0]"
   ]
  },
  {
   "cell_type": "code",
   "execution_count": 94,
   "id": "558737c7",
   "metadata": {},
   "outputs": [
    {
     "data": {
      "text/plain": [
       "'Betel'"
      ]
     },
     "execution_count": 94,
     "metadata": {},
     "output_type": "execute_result"
    }
   ],
   "source": [
    "new_data = pd.DataFrame({\"Ratio\":[1.81],\"Angle_of_Base\\t\":[1197], \"Angle_of_Apex\":[22], \"Length_of_Petiole\":6})\n",
    "prediction = knn.predict(new_data)\n",
    "prediction[0]"
   ]
  },
  {
   "cell_type": "code",
   "execution_count": 95,
   "id": "d2a65e44",
   "metadata": {},
   "outputs": [
    {
     "data": {
      "text/plain": [
       "'Betel'"
      ]
     },
     "execution_count": 95,
     "metadata": {},
     "output_type": "execute_result"
    }
   ],
   "source": [
    "new_data = pd.DataFrame({\"Ratio\":[1.4],\"Angle_of_Base\\t\":[260], \"Angle_of_Apex\":[30], \"Length_of_Petiole\":5})\n",
    "prediction = knn.predict(new_data)\n",
    "prediction[0]"
   ]
  },
  {
   "cell_type": "code",
   "execution_count": 96,
   "id": "5b288cb7",
   "metadata": {},
   "outputs": [
    {
     "data": {
      "text/plain": [
       "'Betel'"
      ]
     },
     "execution_count": 96,
     "metadata": {},
     "output_type": "execute_result"
    }
   ],
   "source": [
    "new_data = pd.DataFrame({\"Ratio\":[1.3],\"Angle_of_Base\\t\":[230], \"Angle_of_Apex\":[30], \"Length_of_Petiole\":1.3})\n",
    "prediction = knn.predict(new_data)\n",
    "prediction[0]"
   ]
  },
  {
   "cell_type": "code",
   "execution_count": 97,
   "id": "a40f20c7",
   "metadata": {},
   "outputs": [
    {
     "data": {
      "text/plain": [
       "'Betel'"
      ]
     },
     "execution_count": 97,
     "metadata": {},
     "output_type": "execute_result"
    }
   ],
   "source": [
    "new_data = pd.DataFrame({\"Ratio\":[1.33],\"Angle_of_Base\\t\":[250], \"Angle_of_Apex\":[30], \"Length_of_Petiole\":2})\n",
    "prediction = knn.predict(new_data)\n",
    "prediction[0]"
   ]
  },
  {
   "cell_type": "code",
   "execution_count": 98,
   "id": "f5d26fc7",
   "metadata": {},
   "outputs": [
    {
     "data": {
      "text/plain": [
       "'Betel'"
      ]
     },
     "execution_count": 98,
     "metadata": {},
     "output_type": "execute_result"
    }
   ],
   "source": [
    "new_data = pd.DataFrame({\"Ratio\":[1.43],\"Angle_of_Base\\t\":[270], \"Angle_of_Apex\":[23], \"Length_of_Petiole\":4.2})\n",
    "prediction = knn.predict(new_data)\n",
    "prediction[0]"
   ]
  },
  {
   "cell_type": "code",
   "execution_count": 99,
   "id": "a2a390e8",
   "metadata": {},
   "outputs": [
    {
     "data": {
      "text/plain": [
       "'Betel'"
      ]
     },
     "execution_count": 99,
     "metadata": {},
     "output_type": "execute_result"
    }
   ],
   "source": [
    "new_data = pd.DataFrame({\"Ratio\":[1.28],\"Angle_of_Base\\t\":[200], \"Angle_of_Apex\":[38], \"Length_of_Petiole\":6})\n",
    "prediction = knn.predict(new_data)\n",
    "prediction[0]"
   ]
  },
  {
   "cell_type": "code",
   "execution_count": 89,
   "id": "f80fdbb1",
   "metadata": {},
   "outputs": [
    {
     "data": {
      "text/plain": [
       "'Pepper'"
      ]
     },
     "execution_count": 89,
     "metadata": {},
     "output_type": "execute_result"
    }
   ],
   "source": [
    "new_data = pd.DataFrame({\"Ratio\":[1.59],\"Angle_of_Base\\t\":[160], \"Angle_of_Apex\":[60], \"Length_of_Petiole\":2.5})\n",
    "prediction = knn.predict(new_data)\n",
    "prediction[0]"
   ]
  },
  {
   "cell_type": "code",
   "execution_count": 100,
   "id": "1055099a",
   "metadata": {},
   "outputs": [
    {
     "data": {
      "text/plain": [
       "'Pepper'"
      ]
     },
     "execution_count": 100,
     "metadata": {},
     "output_type": "execute_result"
    }
   ],
   "source": [
    "new_data = pd.DataFrame({\"Ratio\":[1.13],\"Angle_of_Base\\t\":[141], \"Angle_of_Apex\":[39], \"Length_of_Petiole\":1.6})\n",
    "prediction = knn.predict(new_data)\n",
    "prediction[0]"
   ]
  },
  {
   "cell_type": "code",
   "execution_count": 101,
   "id": "c2740ea6",
   "metadata": {},
   "outputs": [
    {
     "data": {
      "text/plain": [
       "'Pepper'"
      ]
     },
     "execution_count": 101,
     "metadata": {},
     "output_type": "execute_result"
    }
   ],
   "source": [
    "new_data = pd.DataFrame({\"Ratio\":[1.93],\"Angle_of_Base\\t\":[93], \"Angle_of_Apex\":[61], \"Length_of_Petiole\":2})\n",
    "prediction = knn.predict(new_data)\n",
    "prediction[0]"
   ]
  },
  {
   "cell_type": "code",
   "execution_count": 103,
   "id": "17d0d4d0",
   "metadata": {},
   "outputs": [
    {
     "data": {
      "text/plain": [
       "'Pepper'"
      ]
     },
     "execution_count": 103,
     "metadata": {},
     "output_type": "execute_result"
    }
   ],
   "source": [
    "new_data = pd.DataFrame({\"Ratio\":[1.7],\"Angle_of_Base\\t\":[123], \"Angle_of_Apex\":[30], \"Length_of_Petiole\":2.2})\n",
    "prediction = knn.predict(new_data)\n",
    "prediction[0]"
   ]
  },
  {
   "cell_type": "code",
   "execution_count": 104,
   "id": "83d5bf6e",
   "metadata": {},
   "outputs": [
    {
     "data": {
      "text/plain": [
       "'Pepper'"
      ]
     },
     "execution_count": 104,
     "metadata": {},
     "output_type": "execute_result"
    }
   ],
   "source": [
    "new_data = pd.DataFrame({\"Ratio\":[1.76],\"Angle_of_Base\\t\":[135], \"Angle_of_Apex\":[46], \"Length_of_Petiole\":1.4})\n",
    "prediction = knn.predict(new_data)\n",
    "prediction[0]"
   ]
  },
  {
   "cell_type": "code",
   "execution_count": 105,
   "id": "aa1ea9c6",
   "metadata": {},
   "outputs": [
    {
     "data": {
      "text/plain": [
       "'Pepper'"
      ]
     },
     "execution_count": 105,
     "metadata": {},
     "output_type": "execute_result"
    }
   ],
   "source": [
    "new_data = pd.DataFrame({\"Ratio\":[1.69],\"Angle_of_Base\\t\":[120], \"Angle_of_Apex\":[57], \"Length_of_Petiole\":3})\n",
    "prediction = knn.predict(new_data)\n",
    "prediction[0]"
   ]
  },
  {
   "cell_type": "code",
   "execution_count": 106,
   "id": "80fced26",
   "metadata": {},
   "outputs": [
    {
     "data": {
      "text/plain": [
       "'Pepper'"
      ]
     },
     "execution_count": 106,
     "metadata": {},
     "output_type": "execute_result"
    }
   ],
   "source": [
    "new_data = pd.DataFrame({\"Ratio\":[1.62],\"Angle_of_Base\\t\":[115], \"Angle_of_Apex\":[52], \"Length_of_Petiole\":1.7})\n",
    "prediction = knn.predict(new_data)\n",
    "prediction[0]"
   ]
  },
  {
   "cell_type": "code",
   "execution_count": 107,
   "id": "7772f7b1",
   "metadata": {},
   "outputs": [
    {
     "data": {
      "text/plain": [
       "'Pepper'"
      ]
     },
     "execution_count": 107,
     "metadata": {},
     "output_type": "execute_result"
    }
   ],
   "source": [
    "new_data = pd.DataFrame({\"Ratio\":[1.71],\"Angle_of_Base\\t\":[112], \"Angle_of_Apex\":[39], \"Length_of_Petiole\":1.5})\n",
    "prediction = knn.predict(new_data)\n",
    "prediction[0]"
   ]
  },
  {
   "cell_type": "code",
   "execution_count": 108,
   "id": "424b98f3",
   "metadata": {},
   "outputs": [
    {
     "data": {
      "text/plain": [
       "'Pepper'"
      ]
     },
     "execution_count": 108,
     "metadata": {},
     "output_type": "execute_result"
    }
   ],
   "source": [
    "new_data = pd.DataFrame({\"Ratio\":[1.55],\"Angle_of_Base\\t\":[165], \"Angle_of_Apex\":[50], \"Length_of_Petiole\":4.3})\n",
    "prediction = knn.predict(new_data)\n",
    "prediction[0]"
   ]
  },
  {
   "cell_type": "code",
   "execution_count": 109,
   "id": "0b18689a",
   "metadata": {},
   "outputs": [
    {
     "data": {
      "text/plain": [
       "'Pepper'"
      ]
     },
     "execution_count": 109,
     "metadata": {},
     "output_type": "execute_result"
    }
   ],
   "source": [
    "new_data = pd.DataFrame({\"Ratio\":[1.66],\"Angle_of_Base\\t\":[158], \"Angle_of_Apex\":[49], \"Length_of_Petiole\":2})\n",
    "prediction = knn.predict(new_data)\n",
    "prediction[0]"
   ]
  },
  {
   "cell_type": "code",
   "execution_count": 110,
   "id": "ad79780b",
   "metadata": {},
   "outputs": [
    {
     "data": {
      "text/plain": [
       "'Long_Pepper'"
      ]
     },
     "execution_count": 110,
     "metadata": {},
     "output_type": "execute_result"
    }
   ],
   "source": [
    "new_data = pd.DataFrame({\"Ratio\":[1.35],\"Angle_of_Base\\t\":[230], \"Angle_of_Apex\":[55], \"Length_of_Petiole\":6})\n",
    "prediction = knn.predict(new_data)\n",
    "prediction[0]"
   ]
  },
  {
   "cell_type": "code",
   "execution_count": 111,
   "id": "48eb6f71",
   "metadata": {},
   "outputs": [
    {
     "data": {
      "text/plain": [
       "'Long_Pepper'"
      ]
     },
     "execution_count": 111,
     "metadata": {},
     "output_type": "execute_result"
    }
   ],
   "source": [
    "new_data = pd.DataFrame({\"Ratio\":[1.36],\"Angle_of_Base\\t\":[180], \"Angle_of_Apex\":[40], \"Length_of_Petiole\":8})\n",
    "prediction = knn.predict(new_data)\n",
    "prediction[0]"
   ]
  },
  {
   "cell_type": "code",
   "execution_count": 112,
   "id": "da2edb68",
   "metadata": {},
   "outputs": [
    {
     "data": {
      "text/plain": [
       "'Long_Pepper'"
      ]
     },
     "execution_count": 112,
     "metadata": {},
     "output_type": "execute_result"
    }
   ],
   "source": [
    "new_data = pd.DataFrame({\"Ratio\":[1.33],\"Angle_of_Base\\t\":[250], \"Angle_of_Apex\":[45], \"Length_of_Petiole\":2})\n",
    "prediction = knn.predict(new_data)\n",
    "prediction[0]"
   ]
  },
  {
   "cell_type": "code",
   "execution_count": 113,
   "id": "1f3065ee",
   "metadata": {},
   "outputs": [
    {
     "data": {
      "text/plain": [
       "'Long_Pepper'"
      ]
     },
     "execution_count": 113,
     "metadata": {},
     "output_type": "execute_result"
    }
   ],
   "source": [
    "new_data = pd.DataFrame({\"Ratio\":[1.35],\"Angle_of_Base\\t\":[230], \"Angle_of_Apex\":[55], \"Length_of_Petiole\":6})\n",
    "prediction = knn.predict(new_data)\n",
    "prediction[0]"
   ]
  },
  {
   "cell_type": "code",
   "execution_count": 114,
   "id": "8c7a18dc",
   "metadata": {},
   "outputs": [
    {
     "data": {
      "text/plain": [
       "'Long_Pepper'"
      ]
     },
     "execution_count": 114,
     "metadata": {},
     "output_type": "execute_result"
    }
   ],
   "source": [
    "new_data = pd.DataFrame({\"Ratio\":[1.22],\"Angle_of_Base\\t\":[210], \"Angle_of_Apex\":[50], \"Length_of_Petiole\":8})\n",
    "prediction = knn.predict(new_data)\n",
    "prediction[0]"
   ]
  },
  {
   "cell_type": "code",
   "execution_count": 115,
   "id": "0c672e9a",
   "metadata": {},
   "outputs": [
    {
     "data": {
      "text/plain": [
       "'Long_Pepper'"
      ]
     },
     "execution_count": 115,
     "metadata": {},
     "output_type": "execute_result"
    }
   ],
   "source": [
    "new_data = pd.DataFrame({\"Ratio\":[1.41],\"Angle_of_Base\\t\":[220], \"Angle_of_Apex\":[50], \"Length_of_Petiole\":8})\n",
    "prediction = knn.predict(new_data)\n",
    "prediction[0]"
   ]
  },
  {
   "cell_type": "code",
   "execution_count": 116,
   "id": "0cc43d2e",
   "metadata": {},
   "outputs": [
    {
     "data": {
      "text/plain": [
       "'Long_Pepper'"
      ]
     },
     "execution_count": 116,
     "metadata": {},
     "output_type": "execute_result"
    }
   ],
   "source": [
    "new_data = pd.DataFrame({\"Ratio\":[1.41],\"Angle_of_Base\\t\":[240], \"Angle_of_Apex\":[50], \"Length_of_Petiole\":2})\n",
    "prediction = knn.predict(new_data)\n",
    "prediction[0]"
   ]
  },
  {
   "cell_type": "code",
   "execution_count": 117,
   "id": "a0ccd7be",
   "metadata": {},
   "outputs": [
    {
     "data": {
      "text/plain": [
       "'Long_Pepper'"
      ]
     },
     "execution_count": 117,
     "metadata": {},
     "output_type": "execute_result"
    }
   ],
   "source": [
    "new_data = pd.DataFrame({\"Ratio\":[1.35],\"Angle_of_Base\\t\":[180], \"Angle_of_Apex\":[55], \"Length_of_Petiole\":9})\n",
    "prediction = knn.predict(new_data)\n",
    "prediction[0]"
   ]
  },
  {
   "cell_type": "code",
   "execution_count": 118,
   "id": "f8940b4d",
   "metadata": {},
   "outputs": [
    {
     "data": {
      "text/plain": [
       "'Long_Pepper'"
      ]
     },
     "execution_count": 118,
     "metadata": {},
     "output_type": "execute_result"
    }
   ],
   "source": [
    "new_data = pd.DataFrame({\"Ratio\":[1.41],\"Angle_of_Base\\t\":[190], \"Angle_of_Apex\":[50], \"Length_of_Petiole\":8})\n",
    "prediction = knn.predict(new_data)\n",
    "prediction[0]"
   ]
  },
  {
   "cell_type": "code",
   "execution_count": 119,
   "id": "14d36b11",
   "metadata": {},
   "outputs": [
    {
     "data": {
      "text/plain": [
       "'Long_Pepper'"
      ]
     },
     "execution_count": 119,
     "metadata": {},
     "output_type": "execute_result"
    }
   ],
   "source": [
    "new_data = pd.DataFrame({\"Ratio\":[1.6],\"Angle_of_Base\\t\":[180], \"Angle_of_Apex\":[35], \"Length_of_Petiole\":6})\n",
    "prediction = knn.predict(new_data)\n",
    "prediction[0]"
   ]
  },
  {
   "cell_type": "code",
   "execution_count": null,
   "id": "68501c78",
   "metadata": {},
   "outputs": [],
   "source": []
  }
 ],
 "metadata": {
  "kernelspec": {
   "display_name": "Python 3 (ipykernel)",
   "language": "python",
   "name": "python3"
  },
  "language_info": {
   "codemirror_mode": {
    "name": "ipython",
    "version": 3
   },
   "file_extension": ".py",
   "mimetype": "text/x-python",
   "name": "python",
   "nbconvert_exporter": "python",
   "pygments_lexer": "ipython3",
   "version": "3.7.1"
  }
 },
 "nbformat": 4,
 "nbformat_minor": 5
}
